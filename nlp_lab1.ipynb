{
  "nbformat": 4,
  "nbformat_minor": 0,
  "metadata": {
    "colab": {
      "provenance": [],
      "authorship_tag": "ABX9TyP3GBX0UPp6PbAJgFksReVB",
      "include_colab_link": true
    },
    "kernelspec": {
      "name": "python3",
      "display_name": "Python 3"
    },
    "language_info": {
      "name": "python"
    }
  },
  "cells": [
    {
      "cell_type": "markdown",
      "metadata": {
        "id": "view-in-github",
        "colab_type": "text"
      },
      "source": [
        "<a href=\"https://colab.research.google.com/github/buzzaggwd/NLP/blob/main/npl_lab1.ipynb\" target=\"_parent\"><img src=\"https://colab.research.google.com/assets/colab-badge.svg\" alt=\"Open In Colab\"/></a>"
      ]
    },
    {
      "cell_type": "code",
      "source": [
        "import re\n",
        "import nltk\n",
        "nltk.download('stopwords')\n",
        "from nltk.corpus import stopwords\n",
        "from nltk.stem import SnowballStemmer\n",
        "import pymorphy2"
      ],
      "metadata": {
        "colab": {
          "base_uri": "https://localhost:8080/"
        },
        "id": "Uvrb0qxyXWvT",
        "outputId": "54944398-8765-4ea4-af31-8b5931417f54"
      },
      "execution_count": 71,
      "outputs": [
        {
          "output_type": "stream",
          "name": "stderr",
          "text": [
            "[nltk_data] Downloading package stopwords to /root/nltk_data...\n",
            "[nltk_data]   Package stopwords is already up-to-date!\n"
          ]
        }
      ]
    },
    {
      "cell_type": "code",
      "source": [
        "morph = pymorphy2.MorphAnalyzer()\n",
        "russian_stopwords = stopwords.words('russian')\n",
        "stemmer = SnowballStemmer('russian')"
      ],
      "metadata": {
        "id": "uQQSoMDAakXu",
        "collapsed": true
      },
      "execution_count": 72,
      "outputs": []
    },
    {
      "cell_type": "code",
      "source": [
        "text = \"В приведенном примере слово “стали” может быть разобрано и как глагол (“они стали лучше справляться”), и как существительное (“кислородно-конверторный способ получения стали”). На основе одной лишь информации о том, как слово пишется, понять, какой разбор правильный, нельзя, поэтому анализатор может возвращать несколько вариантов разбора.\"\n",
        "\n",
        "text = text.lower()\n",
        "text = re.sub(r'[^а-яё\\s]', '', text)\n",
        "words = text.split()"
      ],
      "metadata": {
        "id": "naiaHC-ma7w5"
      },
      "execution_count": 73,
      "outputs": []
    },
    {
      "cell_type": "code",
      "source": [
        "def lemmatization(text):\n",
        "  lemmatized = []\n",
        "  for word in words:\n",
        "      if word not in russian_stopwords:\n",
        "          lemma = morph.parse(word)[0].normal_form\n",
        "          lemmatized.append(lemma)\n",
        "  return ' '.join(lemmatized)\n",
        "\n",
        "text = lemmatization(text)\n",
        "print(text)"
      ],
      "metadata": {
        "colab": {
          "base_uri": "https://localhost:8080/"
        },
        "id": "ClvFyhIxmLo3",
        "outputId": "aff3f823-8d18-40fe-e75b-ff993dbfba99"
      },
      "execution_count": 74,
      "outputs": [
        {
          "output_type": "stream",
          "name": "stdout",
          "text": [
            "привести пример слово стать разобрать глагол стать справляться существительное кислородноконверторный способ получение стать основа один лишь информация слово писаться понять разбор правильный поэтому анализатор возвращать несколько вариант разбор\n"
          ]
        }
      ]
    },
    {
      "cell_type": "code",
      "source": [
        "def stemming(text):\n",
        "    stemmed_words = []\n",
        "    for word in words:\n",
        "      if word not in russian_stopwords:\n",
        "          stem = stemmer.stem(word)\n",
        "          stemmed_words.append(stem)\n",
        "    return ' '.join(stemmed_words)\n",
        "\n",
        "text = stemming(text)\n",
        "print(text)"
      ],
      "metadata": {
        "colab": {
          "base_uri": "https://localhost:8080/"
        },
        "id": "Wp0VP6vgkTGW",
        "outputId": "73ad0cf9-3250-461b-dcb0-578903642232"
      },
      "execution_count": 75,
      "outputs": [
        {
          "output_type": "stream",
          "name": "stdout",
          "text": [
            "приведен пример слов стал разобра глагол стал справля существительн кислородноконверторн способ получен стал основ одн лиш информац слов пишет поня разбор правильн поэт анализатор возвраща нескольк вариант разбор\n"
          ]
        }
      ]
    },
    {
      "cell_type": "code",
      "execution_count": 76,
      "metadata": {
        "id": "M7zIw6mUN-_O",
        "colab": {
          "base_uri": "https://localhost:8080/"
        },
        "outputId": "4dc07764-d917-4bbf-c4e7-ea377b613106"
      },
      "outputs": [
        {
          "output_type": "stream",
          "name": "stdout",
          "text": [
            "['п', 'р', 'и', 'в', 'е']\n"
          ]
        }
      ],
      "source": [
        "def tokenize(text: str) -> list[str]:\n",
        "  return [char for char in text]\n",
        "\n",
        "tokenized_text = tokenize(text)\n",
        "print(tokenized_text[:5])"
      ]
    },
    {
      "cell_type": "code",
      "source": [
        "def vectorize(tokens: list[str]) -> list[int]:\n",
        "  return {i + 1: char for i, char in enumerate(''.join(tokens))}\n",
        "\n",
        "vectorized_text = vectorize(tokenized_text)\n",
        "print(vectorized_text)"
      ],
      "metadata": {
        "id": "LtWkHc4bOgZf",
        "colab": {
          "base_uri": "https://localhost:8080/"
        },
        "outputId": "b27dda4f-e91b-4f6f-e647-a59013a6862e"
      },
      "execution_count": 77,
      "outputs": [
        {
          "output_type": "stream",
          "name": "stdout",
          "text": [
            "{1: 'п', 2: 'р', 3: 'и', 4: 'в', 5: 'е', 6: 'д', 7: 'е', 8: 'н', 9: ' ', 10: 'п', 11: 'р', 12: 'и', 13: 'м', 14: 'е', 15: 'р', 16: ' ', 17: 'с', 18: 'л', 19: 'о', 20: 'в', 21: ' ', 22: 'с', 23: 'т', 24: 'а', 25: 'л', 26: ' ', 27: 'р', 28: 'а', 29: 'з', 30: 'о', 31: 'б', 32: 'р', 33: 'а', 34: ' ', 35: 'г', 36: 'л', 37: 'а', 38: 'г', 39: 'о', 40: 'л', 41: ' ', 42: 'с', 43: 'т', 44: 'а', 45: 'л', 46: ' ', 47: 'с', 48: 'п', 49: 'р', 50: 'а', 51: 'в', 52: 'л', 53: 'я', 54: ' ', 55: 'с', 56: 'у', 57: 'щ', 58: 'е', 59: 'с', 60: 'т', 61: 'в', 62: 'и', 63: 'т', 64: 'е', 65: 'л', 66: 'ь', 67: 'н', 68: ' ', 69: 'к', 70: 'и', 71: 'с', 72: 'л', 73: 'о', 74: 'р', 75: 'о', 76: 'д', 77: 'н', 78: 'о', 79: 'к', 80: 'о', 81: 'н', 82: 'в', 83: 'е', 84: 'р', 85: 'т', 86: 'о', 87: 'р', 88: 'н', 89: ' ', 90: 'с', 91: 'п', 92: 'о', 93: 'с', 94: 'о', 95: 'б', 96: ' ', 97: 'п', 98: 'о', 99: 'л', 100: 'у', 101: 'ч', 102: 'е', 103: 'н', 104: ' ', 105: 'с', 106: 'т', 107: 'а', 108: 'л', 109: ' ', 110: 'о', 111: 'с', 112: 'н', 113: 'о', 114: 'в', 115: ' ', 116: 'о', 117: 'д', 118: 'н', 119: ' ', 120: 'л', 121: 'и', 122: 'ш', 123: ' ', 124: 'и', 125: 'н', 126: 'ф', 127: 'о', 128: 'р', 129: 'м', 130: 'а', 131: 'ц', 132: ' ', 133: 'с', 134: 'л', 135: 'о', 136: 'в', 137: ' ', 138: 'п', 139: 'и', 140: 'ш', 141: 'е', 142: 'т', 143: ' ', 144: 'п', 145: 'о', 146: 'н', 147: 'я', 148: ' ', 149: 'р', 150: 'а', 151: 'з', 152: 'б', 153: 'о', 154: 'р', 155: ' ', 156: 'п', 157: 'р', 158: 'а', 159: 'в', 160: 'и', 161: 'л', 162: 'ь', 163: 'н', 164: ' ', 165: 'п', 166: 'о', 167: 'э', 168: 'т', 169: ' ', 170: 'а', 171: 'н', 172: 'а', 173: 'л', 174: 'и', 175: 'з', 176: 'а', 177: 'т', 178: 'о', 179: 'р', 180: ' ', 181: 'в', 182: 'о', 183: 'з', 184: 'в', 185: 'р', 186: 'а', 187: 'щ', 188: 'а', 189: ' ', 190: 'н', 191: 'е', 192: 'с', 193: 'к', 194: 'о', 195: 'л', 196: 'ь', 197: 'к', 198: ' ', 199: 'в', 200: 'а', 201: 'р', 202: 'и', 203: 'а', 204: 'н', 205: 'т', 206: ' ', 207: 'р', 208: 'а', 209: 'з', 210: 'б', 211: 'о', 212: 'р'}\n"
          ]
        }
      ]
    }
  ]
}
