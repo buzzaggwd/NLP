{
  "nbformat": 4,
  "nbformat_minor": 0,
  "metadata": {
    "colab": {
      "provenance": [],
      "authorship_tag": "ABX9TyOYBqfmhbjjcSCJDOtjYa7X",
      "include_colab_link": true
    },
    "kernelspec": {
      "name": "python3",
      "display_name": "Python 3"
    },
    "language_info": {
      "name": "python"
    }
  },
  "cells": [
    {
      "cell_type": "markdown",
      "metadata": {
        "id": "view-in-github",
        "colab_type": "text"
      },
      "source": [
        "<a href=\"https://colab.research.google.com/github/buzzaggwd/NLP/blob/main/nlp_lab5_2.ipynb\" target=\"_parent\"><img src=\"https://colab.research.google.com/assets/colab-badge.svg\" alt=\"Open In Colab\"/></a>"
      ]
    },
    {
      "cell_type": "code",
      "source": [
        "import pandas as pd\n",
        "import re\n",
        "import nltk\n",
        "from nltk.corpus import stopwords\n",
        "from nltk.stem import WordNetLemmatizer\n",
        "import math\n",
        "\n",
        "from sklearn.feature_extraction.text import TfidfVectorizer\n",
        "from sklearn.cluster import KMeans\n",
        "from sklearn.metrics import adjusted_rand_score, v_measure_score\n",
        "from sklearn.model_selection import train_test_split\n",
        "\n",
        "import matplotlib.pyplot as plt"
      ],
      "metadata": {
        "id": "bCKZUowJusim"
      },
      "execution_count": 4,
      "outputs": []
    },
    {
      "cell_type": "code",
      "source": [
        "nltk.download('stopwords')\n",
        "nltk.download('wordnet')"
      ],
      "metadata": {
        "colab": {
          "base_uri": "https://localhost:8080/"
        },
        "id": "Ph0at-tju2A6",
        "outputId": "61d83c36-fae4-4651-f125-daa1cd9bffc1",
        "collapsed": true
      },
      "execution_count": 5,
      "outputs": [
        {
          "output_type": "stream",
          "name": "stderr",
          "text": [
            "[nltk_data] Downloading package stopwords to /root/nltk_data...\n",
            "[nltk_data]   Package stopwords is already up-to-date!\n",
            "[nltk_data] Downloading package wordnet to /root/nltk_data...\n",
            "[nltk_data]   Package wordnet is already up-to-date!\n"
          ]
        },
        {
          "output_type": "execute_result",
          "data": {
            "text/plain": [
              "True"
            ]
          },
          "metadata": {},
          "execution_count": 5
        }
      ]
    },
    {
      "cell_type": "code",
      "execution_count": 6,
      "metadata": {
        "colab": {
          "base_uri": "https://localhost:8080/"
        },
        "id": "npw8P2zCul1I",
        "outputId": "46ba4bc6-0ff0-4b59-9efa-544d63d73da5"
      },
      "outputs": [
        {
          "output_type": "stream",
          "name": "stdout",
          "text": [
            "                                                  text       category\n",
            "0    more tax development both store agreement lawy...       Politics\n",
            "1    probably guess western behind likely next inve...       Politics\n",
            "2    them identify forward present success risk sev...       Business\n",
            "3    phone which item yard Republican safe where po...        Science\n",
            "4    wonder myself fact difficult course forget exa...     Technology\n",
            "..                                                 ...            ...\n",
            "495  bed Congress very here do talk benefit populat...         Health\n",
            "496  eight for remain affect defense too treat teac...  Entertainment\n",
            "497  whom culture despite share ago partner us pers...       Politics\n",
            "498  someone know wish science sure strategy walk n...  Entertainment\n",
            "499  thought value identify part realize everyone j...        Science\n",
            "\n",
            "[500 rows x 2 columns]\n"
          ]
        }
      ],
      "source": [
        "PATH_TO_FILE: str = 'fake_news_dataset2.csv'\n",
        "\n",
        "df = pd.read_csv(PATH_TO_FILE, encoding='utf-8')\n",
        "\n",
        "print(df)\n",
        "\n",
        "# p.s. датасет был ну очень огромный, пришлось обрезать до 500 строк, зато я могу его обработать🥲"
      ]
    },
    {
      "cell_type": "code",
      "source": [
        "lemmatizer = WordNetLemmatizer()\n",
        "english_stopwords = stopwords.words('english')"
      ],
      "metadata": {
        "id": "clNZKca6u9Kp"
      },
      "execution_count": 7,
      "outputs": []
    },
    {
      "cell_type": "code",
      "source": [
        "# удаляем стоп-слова, делаем нижний регистр, разделяем слова\n",
        "def preprocessing(texts: list[str]) -> list[list[str]]:\n",
        "    processed = []\n",
        "    for text in texts:\n",
        "        clean_text = re.sub(r'[^a-z\\s]', '', text.lower())\n",
        "        words = clean_text.split()\n",
        "        processed.append(words)\n",
        "    return processed\n",
        "\n",
        "processed_texts = preprocessing(df['text'].tolist())\n",
        "print(processed_texts[10])"
      ],
      "metadata": {
        "id": "3eQNYs-ZvNNB",
        "outputId": "38797469-62a2-4f6d-d679-391404489b19",
        "colab": {
          "base_uri": "https://localhost:8080/"
        }
      },
      "execution_count": 8,
      "outputs": [
        {
          "output_type": "stream",
          "name": "stdout",
          "text": [
            "['design', 'quality', 'get', 'student', 'ground', 'public', 'still', 'whose', 'cultural', 'young', 'many', 'material', 'audience', 'smile', 'ever', 'unit', 'approach', 'although', 'sure', 'me', 'assume', 'remember', 'down', 'see', 'serious', 'person', 'training', 'agent', 'simple', 'enjoy', 'anyone', 'opportunity', 'buy', 'school', 'technology', 'stock', 'enough', 'late', 'former', 'ask', 'experience', 'interesting', 'part', 'mean', 'expect', 'range', 'decision', 'can', 'how', 'answer', 'then', 'way', 'where', 'water', 'good', 'plan', 'they', 'still', 'father', 'notice', 'military', 'away', 'student', 'care', 'fear', 'address', 'relationship', 'establish', 'yet', 'rate', 'turn', 'hospital', 'step', 'soon', 'when', 'set', 'lot', 'natural', 'majority', 'pull', 'far', 'late', 'government', 'sure', 'production', 'agency', 'start', 'stock', 'wonder', 'interview', 'yet', 'science', 'cause', 'project', 'add', 'respond', 'energy', 'thus', 'tonight', 'director', 'low', 'the', 'pick', 'speak', 'spend', 'wear', 'certain', 'rule', 'happen', 'provide', 'leave', 'shake', 'low', 'them', 'college', 'star', 'main', 'size', 'we', 'toward', 'in', 'each', 'relate', 'again', 'lose', 'successful', 'from', 'least', 'sit', 'real', 'standard', 'involve', 'natural', 'family', 'window', 'radio', 'new', 'and', 'stand', 'whose', 'need', 'care', 'yes', 'front', 'poor', 'box', 'wife', 'first', 'when', 'three', 'truth', 'firm', 'stock', 'agent', 'process', 'suffer', 'floor', 'television', 'wish', 'appear', 'example', 'factor', 'development', 'space', 'lawyer', 'left', 'media', 'sister', 'this', 'beyond', 'blood', 'write', 'speak', 'appear', 'career', 'food', 'truth', 'believe', 'factor', 'seven', 'manager', 'east', 'difficult', 'sure', 'person', 'price', 'example', 'marriage', 'theory', 'myself', 'yet', 'southern', 'base', 'product', 'indicate', 'career', 'less', 'be', 'hope', 'couple', 'same', 'foreign', 'near', 'speech', 'everybody', 'research', 'gun', 'environmental', 'across', 'boy', 'beyond', 'free', 'system', 'picture', 'product', 'policy', 'child', 'tax', 'sense']\n"
          ]
        }
      ]
    },
    {
      "cell_type": "code",
      "source": [
        "# лемматизация\n",
        "def lemmatization(texts: list[list[str]]) -> list[list[str]]:\n",
        "    lemmatized = []\n",
        "    for sublist in texts:\n",
        "        current_lemmas = []\n",
        "        for word in sublist:\n",
        "            if word not in english_stopwords:\n",
        "                lemma = lemmatizer.lemmatize(word)\n",
        "                current_lemmas.append(lemma)\n",
        "        lemmatized.append(current_lemmas)\n",
        "    return lemmatized\n",
        "\n",
        "final_texts = lemmatization(processed_texts)\n",
        "print(final_texts[10])"
      ],
      "metadata": {
        "id": "vt1-x2-RvO0u",
        "outputId": "ff51b9da-6de4-4ac3-d07d-a19e264a1ca5",
        "colab": {
          "base_uri": "https://localhost:8080/"
        }
      },
      "execution_count": 16,
      "outputs": [
        {
          "output_type": "stream",
          "name": "stdout",
          "text": [
            "['design', 'quality', 'get', 'student', 'ground', 'public', 'still', 'whose', 'cultural', 'young', 'many', 'material', 'audience', 'smile', 'ever', 'unit', 'approach', 'although', 'sure', 'assume', 'remember', 'see', 'serious', 'person', 'training', 'agent', 'simple', 'enjoy', 'anyone', 'opportunity', 'buy', 'school', 'technology', 'stock', 'enough', 'late', 'former', 'ask', 'experience', 'interesting', 'part', 'mean', 'expect', 'range', 'decision', 'answer', 'way', 'water', 'good', 'plan', 'still', 'father', 'notice', 'military', 'away', 'student', 'care', 'fear', 'address', 'relationship', 'establish', 'yet', 'rate', 'turn', 'hospital', 'step', 'soon', 'set', 'lot', 'natural', 'majority', 'pull', 'far', 'late', 'government', 'sure', 'production', 'agency', 'start', 'stock', 'wonder', 'interview', 'yet', 'science', 'cause', 'project', 'add', 'respond', 'energy', 'thus', 'tonight', 'director', 'low', 'pick', 'speak', 'spend', 'wear', 'certain', 'rule', 'happen', 'provide', 'leave', 'shake', 'low', 'college', 'star', 'main', 'size', 'toward', 'relate', 'lose', 'successful', 'least', 'sit', 'real', 'standard', 'involve', 'natural', 'family', 'window', 'radio', 'new', 'stand', 'whose', 'need', 'care', 'yes', 'front', 'poor', 'box', 'wife', 'first', 'three', 'truth', 'firm', 'stock', 'agent', 'process', 'suffer', 'floor', 'television', 'wish', 'appear', 'example', 'factor', 'development', 'space', 'lawyer', 'left', 'medium', 'sister', 'beyond', 'blood', 'write', 'speak', 'appear', 'career', 'food', 'truth', 'believe', 'factor', 'seven', 'manager', 'east', 'difficult', 'sure', 'person', 'price', 'example', 'marriage', 'theory', 'yet', 'southern', 'base', 'product', 'indicate', 'career', 'less', 'hope', 'couple', 'foreign', 'near', 'speech', 'everybody', 'research', 'gun', 'environmental', 'across', 'boy', 'beyond', 'free', 'system', 'picture', 'product', 'policy', 'child', 'tax', 'sense']\n"
          ]
        }
      ]
    },
    {
      "cell_type": "code",
      "source": [
        "# векторизация\n",
        "texts_for_vectorization = [' '.join(tokens) for tokens in final_texts]"
      ],
      "metadata": {
        "id": "ZQ7eAU4G7adK"
      },
      "execution_count": 10,
      "outputs": []
    },
    {
      "cell_type": "code",
      "source": [
        "# TF-IDF\n",
        "vectorizer = TfidfVectorizer(max_features=1000)\n",
        "X = vectorizer.fit_transform(texts_for_vectorization)\n",
        "print(\"Матрица TF-IDF (размерность):\", X.shape)"
      ],
      "metadata": {
        "colab": {
          "base_uri": "https://localhost:8080/"
        },
        "id": "FXnZB6px7fCL",
        "outputId": "cf7113c8-82c7-4d51-8cc3-01bfd409bdf6"
      },
      "execution_count": 11,
      "outputs": [
        {
          "output_type": "stream",
          "name": "stdout",
          "text": [
            "Матрица TF-IDF (размерность): (500, 867)\n"
          ]
        }
      ]
    },
    {
      "cell_type": "code",
      "source": [
        "# кластеризация\n",
        "n_clusters = df['category'].nunique()\n",
        "kmeans = KMeans(n_clusters=n_clusters, random_state=42)\n",
        "clusters = kmeans.fit_predict(X)"
      ],
      "metadata": {
        "id": "kRmlWGZw7gsR"
      },
      "execution_count": 12,
      "outputs": []
    },
    {
      "cell_type": "code",
      "source": [
        "# сравнение с реальной разметкой\n",
        "true_labels = df['category'].values\n",
        "ari = adjusted_rand_score(true_labels, clusters)\n",
        "v_measure = v_measure_score(true_labels, clusters)\n",
        "print(f\"Качество кластеризации:\\nARI: {ari:.2f}\\nV-measure: {v_measure:.2f}\")"
      ],
      "metadata": {
        "colab": {
          "base_uri": "https://localhost:8080/"
        },
        "id": "Tm7hRy_F7ia7",
        "outputId": "255dc6ab-d170-446e-a56d-3f76d4e8f7c5"
      },
      "execution_count": 13,
      "outputs": [
        {
          "output_type": "stream",
          "name": "stdout",
          "text": [
            "Качество кластеризации:\n",
            "ARI: -0.00\n",
            "V-measure: 0.02\n"
          ]
        }
      ]
    },
    {
      "cell_type": "code",
      "source": [
        "# выборки\n",
        "X_train, X_test, y_train, y_test = train_test_split(X, true_labels, test_size=0.2, random_state=42, stratify=true_labels)\n",
        "X_train, X_val, y_train, y_val = train_test_split(X_train, y_train, test_size=0.25, random_state=42, stratify=y_train)\n",
        "\n",
        "print(\"Размеры выборок:\")\n",
        "print(f\"Train: {X_train.shape[0]}, Val: {X_val.shape[0]}, Test: {X_test.shape[0]}\")"
      ],
      "metadata": {
        "colab": {
          "base_uri": "https://localhost:8080/"
        },
        "id": "OSIOSDzD6l9c",
        "outputId": "0b26a3e0-bb72-403a-9d93-dbbbbe354d36"
      },
      "execution_count": 14,
      "outputs": [
        {
          "output_type": "stream",
          "name": "stdout",
          "text": [
            "Размеры выборок:\n",
            "Train: 300, Val: 100, Test: 100\n"
          ]
        }
      ]
    },
    {
      "cell_type": "code",
      "source": [
        "plt.figure(figsize=(10, 6))\n",
        "df['category'].value_counts().plot(kind='bar')\n",
        "plt.title('Распределение категорий в датасете')\n",
        "plt.xlabel('Категория новостей')\n",
        "plt.ylabel('Количество новостей')\n",
        "plt.xticks(rotation=45)\n",
        "plt.tight_layout()\n",
        "plt.show()"
      ],
      "metadata": {
        "colab": {
          "base_uri": "https://localhost:8080/",
          "height": 607
        },
        "id": "1Ie95EiE9Ld7",
        "outputId": "0ed387ba-fc14-49c7-91b0-02720a1c6b86"
      },
      "execution_count": 15,
      "outputs": [
        {
          "output_type": "display_data",
          "data": {
            "text/plain": [
              "<Figure size 1000x600 with 1 Axes>"
            ],
            "image/png": "[encoded data removed]"
          },
          "metadata": {}
        }
      ]
    }
  ]
}