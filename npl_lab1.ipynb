{
  "nbformat": 4,
  "nbformat_minor": 0,
  "metadata": {
    "colab": {
      "provenance": [],
      "authorship_tag": "ABX9TyNh/Bh/rTRf8A83pwJWRN15",
      "include_colab_link": true
    },
    "kernelspec": {
      "name": "python3",
      "display_name": "Python 3"
    },
    "language_info": {
      "name": "python"
    }
  },
  "cells": [
    {
      "cell_type": "markdown",
      "metadata": {
        "id": "view-in-github",
        "colab_type": "text"
      },
      "source": [
        "<a href=\"https://colab.research.google.com/github/buzzaggwd/NLP/blob/main/npl_lab1.ipynb\" target=\"_parent\"><img src=\"https://colab.research.google.com/assets/colab-badge.svg\" alt=\"Open In Colab\"/></a>"
      ]
    },
    {
      "cell_type": "code",
      "source": [
        "import re\n",
        "import nltk\n",
        "nltk.download('stopwords')\n",
        "from nltk.corpus import stopwords\n",
        "from nltk.stem import SnowballStemmer\n",
        "import pymorphy2"
      ],
      "metadata": {
        "colab": {
          "base_uri": "https://localhost:8080/"
        },
        "id": "Uvrb0qxyXWvT",
        "outputId": "d064a2e5-888c-4094-bccd-c3fdee0c6a47"
      },
      "execution_count": 20,
      "outputs": [
        {
          "output_type": "stream",
          "name": "stderr",
          "text": [
            "[nltk_data] Downloading package stopwords to /root/nltk_data...\n",
            "[nltk_data]   Package stopwords is already up-to-date!\n"
          ]
        }
      ]
    },
    {
      "cell_type": "code",
      "source": [
        "morph = pymorphy2.MorphAnalyzer()\n",
        "russian_stopwords = stopwords.words('russian')"
      ],
      "metadata": {
        "id": "uQQSoMDAakXu",
        "collapsed": true
      },
      "execution_count": 31,
      "outputs": []
    },
    {
      "cell_type": "code",
      "source": [
        "text = \"В приведенном примере слово “стали” может быть разобрано и как глагол (“они стали лучше справляться”), и как существительное (“кислородно-конверторный способ получения стали”). На основе одной лишь информации о том, как слово пишется, понять, какой разбор правильный, нельзя, поэтому анализатор может возвращать несколько вариантов разбора.\"\n",
        "\n",
        "text = text.lower()\n",
        "text = re.sub(r'[^а-яё\\s]', '', text)\n",
        "words = text.split()"
      ],
      "metadata": {
        "id": "naiaHC-ma7w5"
      },
      "execution_count": 32,
      "outputs": []
    },
    {
      "cell_type": "code",
      "source": [
        "def lemmatization(text):\n",
        "  lemmatized = []\n",
        "  for word in words:\n",
        "      if word not in russian_stopwords:\n",
        "          lemma = morph.parse(word)[0].normal_form\n",
        "          lemmatized.append(lemma)\n",
        "  return ' '.join(lemmatized)\n",
        "\n",
        "text = lemmatization(text)\n",
        "print(text)"
      ],
      "metadata": {
        "colab": {
          "base_uri": "https://localhost:8080/"
        },
        "id": "ClvFyhIxmLo3",
        "outputId": "ed33a22f-5b05-4fae-bd2e-1a054c8f6f4b"
      },
      "execution_count": 33,
      "outputs": [
        {
          "output_type": "stream",
          "name": "stdout",
          "text": [
            "привести пример слово стать разобрать глагол стать справляться существительное кислородноконверторный способ получение стать основа один лишь информация слово писаться понять разбор правильный поэтому анализатор возвращать несколько вариант разбор\n"
          ]
        }
      ]
    },
    {
      "cell_type": "code",
      "source": [
        "def stemming(text):\n",
        "    stemmed_words = []\n",
        "    for word in words:\n",
        "        stem = morph.parse(word)[0].normal_form\n",
        "        stemmed_words.append(stem)\n",
        "    return ' '.join(stemmed_words)\n",
        "\n",
        "text = stemming(text)\n",
        "print(text)"
      ],
      "metadata": {
        "colab": {
          "base_uri": "https://localhost:8080/"
        },
        "id": "Wp0VP6vgkTGW",
        "outputId": "9b42b29f-5499-4b87-9a72-5c6380c4a54d"
      },
      "execution_count": 34,
      "outputs": [
        {
          "output_type": "stream",
          "name": "stdout",
          "text": [
            "в привести пример слово стать мочь быть разобрать и как глагол они стать хороший справляться и как существительное кислородноконверторный способ получение стать на основа один лишь информация о тот как слово писаться понять какой разбор правильный нельзя поэтому анализатор мочь возвращать несколько вариант разбор\n"
          ]
        }
      ]
    },
    {
      "cell_type": "code",
      "execution_count": 35,
      "metadata": {
        "id": "M7zIw6mUN-_O",
        "colab": {
          "base_uri": "https://localhost:8080/"
        },
        "outputId": "69078c5e-d498-476f-978e-4d91694ae147"
      },
      "outputs": [
        {
          "output_type": "stream",
          "name": "stdout",
          "text": [
            "['в', ' ', 'п', 'р', 'и']\n"
          ]
        }
      ],
      "source": [
        "def tokenize(text: str) -> list[str]:\n",
        "  return [char for char in text]\n",
        "\n",
        "tokenized_text = tokenize(text)\n",
        "print(tokenized_text[:5])"
      ]
    },
    {
      "cell_type": "code",
      "source": [
        "def vectorize(tokens: list[str]) -> list[int]:\n",
        "  return {i + 1: char for i, char in enumerate(''.join(tokens))}\n",
        "\n",
        "vectorized_text = vectorize(tokenized_text)\n",
        "print(vectorized_text)"
      ],
      "metadata": {
        "id": "LtWkHc4bOgZf",
        "colab": {
          "base_uri": "https://localhost:8080/"
        },
        "outputId": "538e08a2-2ef1-42ca-9eff-a82f5b8f5179"
      },
      "execution_count": 36,
      "outputs": [
        {
          "output_type": "stream",
          "name": "stdout",
          "text": [
            "{1: 'в', 2: ' ', 3: 'п', 4: 'р', 5: 'и', 6: 'в', 7: 'е', 8: 'с', 9: 'т', 10: 'и', 11: ' ', 12: 'п', 13: 'р', 14: 'и', 15: 'м', 16: 'е', 17: 'р', 18: ' ', 19: 'с', 20: 'л', 21: 'о', 22: 'в', 23: 'о', 24: ' ', 25: 'с', 26: 'т', 27: 'а', 28: 'т', 29: 'ь', 30: ' ', 31: 'м', 32: 'о', 33: 'ч', 34: 'ь', 35: ' ', 36: 'б', 37: 'ы', 38: 'т', 39: 'ь', 40: ' ', 41: 'р', 42: 'а', 43: 'з', 44: 'о', 45: 'б', 46: 'р', 47: 'а', 48: 'т', 49: 'ь', 50: ' ', 51: 'и', 52: ' ', 53: 'к', 54: 'а', 55: 'к', 56: ' ', 57: 'г', 58: 'л', 59: 'а', 60: 'г', 61: 'о', 62: 'л', 63: ' ', 64: 'о', 65: 'н', 66: 'и', 67: ' ', 68: 'с', 69: 'т', 70: 'а', 71: 'т', 72: 'ь', 73: ' ', 74: 'х', 75: 'о', 76: 'р', 77: 'о', 78: 'ш', 79: 'и', 80: 'й', 81: ' ', 82: 'с', 83: 'п', 84: 'р', 85: 'а', 86: 'в', 87: 'л', 88: 'я', 89: 'т', 90: 'ь', 91: 'с', 92: 'я', 93: ' ', 94: 'и', 95: ' ', 96: 'к', 97: 'а', 98: 'к', 99: ' ', 100: 'с', 101: 'у', 102: 'щ', 103: 'е', 104: 'с', 105: 'т', 106: 'в', 107: 'и', 108: 'т', 109: 'е', 110: 'л', 111: 'ь', 112: 'н', 113: 'о', 114: 'е', 115: ' ', 116: 'к', 117: 'и', 118: 'с', 119: 'л', 120: 'о', 121: 'р', 122: 'о', 123: 'д', 124: 'н', 125: 'о', 126: 'к', 127: 'о', 128: 'н', 129: 'в', 130: 'е', 131: 'р', 132: 'т', 133: 'о', 134: 'р', 135: 'н', 136: 'ы', 137: 'й', 138: ' ', 139: 'с', 140: 'п', 141: 'о', 142: 'с', 143: 'о', 144: 'б', 145: ' ', 146: 'п', 147: 'о', 148: 'л', 149: 'у', 150: 'ч', 151: 'е', 152: 'н', 153: 'и', 154: 'е', 155: ' ', 156: 'с', 157: 'т', 158: 'а', 159: 'т', 160: 'ь', 161: ' ', 162: 'н', 163: 'а', 164: ' ', 165: 'о', 166: 'с', 167: 'н', 168: 'о', 169: 'в', 170: 'а', 171: ' ', 172: 'о', 173: 'д', 174: 'и', 175: 'н', 176: ' ', 177: 'л', 178: 'и', 179: 'ш', 180: 'ь', 181: ' ', 182: 'и', 183: 'н', 184: 'ф', 185: 'о', 186: 'р', 187: 'м', 188: 'а', 189: 'ц', 190: 'и', 191: 'я', 192: ' ', 193: 'о', 194: ' ', 195: 'т', 196: 'о', 197: 'т', 198: ' ', 199: 'к', 200: 'а', 201: 'к', 202: ' ', 203: 'с', 204: 'л', 205: 'о', 206: 'в', 207: 'о', 208: ' ', 209: 'п', 210: 'и', 211: 'с', 212: 'а', 213: 'т', 214: 'ь', 215: 'с', 216: 'я', 217: ' ', 218: 'п', 219: 'о', 220: 'н', 221: 'я', 222: 'т', 223: 'ь', 224: ' ', 225: 'к', 226: 'а', 227: 'к', 228: 'о', 229: 'й', 230: ' ', 231: 'р', 232: 'а', 233: 'з', 234: 'б', 235: 'о', 236: 'р', 237: ' ', 238: 'п', 239: 'р', 240: 'а', 241: 'в', 242: 'и', 243: 'л', 244: 'ь', 245: 'н', 246: 'ы', 247: 'й', 248: ' ', 249: 'н', 250: 'е', 251: 'л', 252: 'ь', 253: 'з', 254: 'я', 255: ' ', 256: 'п', 257: 'о', 258: 'э', 259: 'т', 260: 'о', 261: 'м', 262: 'у', 263: ' ', 264: 'а', 265: 'н', 266: 'а', 267: 'л', 268: 'и', 269: 'з', 270: 'а', 271: 'т', 272: 'о', 273: 'р', 274: ' ', 275: 'м', 276: 'о', 277: 'ч', 278: 'ь', 279: ' ', 280: 'в', 281: 'о', 282: 'з', 283: 'в', 284: 'р', 285: 'а', 286: 'щ', 287: 'а', 288: 'т', 289: 'ь', 290: ' ', 291: 'н', 292: 'е', 293: 'с', 294: 'к', 295: 'о', 296: 'л', 297: 'ь', 298: 'к', 299: 'о', 300: ' ', 301: 'в', 302: 'а', 303: 'р', 304: 'и', 305: 'а', 306: 'н', 307: 'т', 308: ' ', 309: 'р', 310: 'а', 311: 'з', 312: 'б', 313: 'о', 314: 'р'}\n"
          ]
        }
      ]
    }
  ]
}