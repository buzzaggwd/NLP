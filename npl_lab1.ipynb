{
  "nbformat": 4,
  "nbformat_minor": 0,
  "metadata": {
    "colab": {
      "provenance": [],
      "authorship_tag": "ABX9TyO+2/9jDCB5D68XDYdezq82",
      "include_colab_link": true
    },
    "kernelspec": {
      "name": "python3",
      "display_name": "Python 3"
    },
    "language_info": {
      "name": "python"
    }
  },
  "cells": [
    {
      "cell_type": "markdown",
      "metadata": {
        "id": "view-in-github",
        "colab_type": "text"
      },
      "source": [
        "<a href=\"https://colab.research.google.com/github/buzzaggwd/NLP/blob/main/npl_lab1.ipynb\" target=\"_parent\"><img src=\"https://colab.research.google.com/assets/colab-badge.svg\" alt=\"Open In Colab\"/></a>"
      ]
    },
    {
      "cell_type": "code",
      "source": [
        "import re\n",
        "import nltk\n",
        "nltk.download('stopwords')\n",
        "from nltk.corpus import stopwords\n",
        "import pymorphy2"
      ],
      "metadata": {
        "colab": {
          "base_uri": "https://localhost:8080/"
        },
        "id": "Uvrb0qxyXWvT",
        "outputId": "f0506408-4e84-43a1-8efd-757d7bbe73a0"
      },
      "execution_count": 33,
      "outputs": [
        {
          "output_type": "stream",
          "name": "stderr",
          "text": [
            "[nltk_data] Downloading package stopwords to /root/nltk_data...\n",
            "[nltk_data]   Package stopwords is already up-to-date!\n"
          ]
        }
      ]
    },
    {
      "cell_type": "code",
      "source": [
        "morph = pymorphy2.MorphAnalyzer()\n",
        "russian_stopwords = stopwords.words('russian')"
      ],
      "metadata": {
        "id": "uQQSoMDAakXu"
      },
      "execution_count": 34,
      "outputs": []
    },
    {
      "cell_type": "code",
      "source": [
        "text = \"В приведенном примере слово “стали” может быть разобрано и как глагол (“они стали лучше справляться”), и как существительное (“кислородно-конверторный способ получения стали”). На основе одной лишь информации о том, как слово пишется, понять, какой разбор правильный, нельзя, поэтому анализатор может возвращать несколько вариантов разбора.\""
      ],
      "metadata": {
        "id": "naiaHC-ma7w5"
      },
      "execution_count": 35,
      "outputs": []
    },
    {
      "cell_type": "code",
      "source": [
        "def preprocess_text(text):\n",
        "    text = text.lower()\n",
        "    text = re.sub(r'[^а-яё\\s]', '', text)\n",
        "    words = text.split()\n",
        "    lemmatized = []\n",
        "    for word in words:\n",
        "        if word not in russian_stopwords:\n",
        "            lemma = morph.parse(word)[0].normal_form\n",
        "            lemmatized.append(lemma)\n",
        "    return ' '.join(lemmatized)\n",
        "\n",
        "text = preprocess_text(text)"
      ],
      "metadata": {
        "id": "hIlDs0HVa4Rp"
      },
      "execution_count": 36,
      "outputs": []
    },
    {
      "cell_type": "code",
      "execution_count": 37,
      "metadata": {
        "id": "M7zIw6mUN-_O",
        "colab": {
          "base_uri": "https://localhost:8080/"
        },
        "outputId": "8c57050c-177a-4d2d-fe68-d7a2301aaaed"
      },
      "outputs": [
        {
          "output_type": "stream",
          "name": "stdout",
          "text": [
            "['п', 'р', 'и', 'в', 'е']\n"
          ]
        }
      ],
      "source": [
        "def tokenize(text: str) -> list[str]:\n",
        "  return [char for char in text]\n",
        "\n",
        "tokenized_text = tokenize(text)\n",
        "print(tokenized_text[:5])"
      ]
    },
    {
      "cell_type": "code",
      "source": [
        "def vectorize(tokens: list[str]) -> list[int]:\n",
        "  return {i + 1: char for i, char in enumerate(''.join(tokens))}\n",
        "\n",
        "vectorized_text = vectorize(tokenized_text)\n",
        "print(vectorized_text)"
      ],
      "metadata": {
        "id": "LtWkHc4bOgZf",
        "colab": {
          "base_uri": "https://localhost:8080/"
        },
        "outputId": "f630784f-aecf-4516-ea9a-cc48bab3df27"
      },
      "execution_count": 38,
      "outputs": [
        {
          "output_type": "stream",
          "name": "stdout",
          "text": [
            "{1: 'п', 2: 'р', 3: 'и', 4: 'в', 5: 'е', 6: 'с', 7: 'т', 8: 'и', 9: ' ', 10: 'п', 11: 'р', 12: 'и', 13: 'м', 14: 'е', 15: 'р', 16: ' ', 17: 'с', 18: 'л', 19: 'о', 20: 'в', 21: 'о', 22: ' ', 23: 'с', 24: 'т', 25: 'а', 26: 'т', 27: 'ь', 28: ' ', 29: 'р', 30: 'а', 31: 'з', 32: 'о', 33: 'б', 34: 'р', 35: 'а', 36: 'т', 37: 'ь', 38: ' ', 39: 'г', 40: 'л', 41: 'а', 42: 'г', 43: 'о', 44: 'л', 45: ' ', 46: 'с', 47: 'т', 48: 'а', 49: 'т', 50: 'ь', 51: ' ', 52: 'с', 53: 'п', 54: 'р', 55: 'а', 56: 'в', 57: 'л', 58: 'я', 59: 'т', 60: 'ь', 61: 'с', 62: 'я', 63: ' ', 64: 'с', 65: 'у', 66: 'щ', 67: 'е', 68: 'с', 69: 'т', 70: 'в', 71: 'и', 72: 'т', 73: 'е', 74: 'л', 75: 'ь', 76: 'н', 77: 'о', 78: 'е', 79: ' ', 80: 'к', 81: 'и', 82: 'с', 83: 'л', 84: 'о', 85: 'р', 86: 'о', 87: 'д', 88: 'н', 89: 'о', 90: 'к', 91: 'о', 92: 'н', 93: 'в', 94: 'е', 95: 'р', 96: 'т', 97: 'о', 98: 'р', 99: 'н', 100: 'ы', 101: 'й', 102: ' ', 103: 'с', 104: 'п', 105: 'о', 106: 'с', 107: 'о', 108: 'б', 109: ' ', 110: 'п', 111: 'о', 112: 'л', 113: 'у', 114: 'ч', 115: 'е', 116: 'н', 117: 'и', 118: 'е', 119: ' ', 120: 'с', 121: 'т', 122: 'а', 123: 'т', 124: 'ь', 125: ' ', 126: 'о', 127: 'с', 128: 'н', 129: 'о', 130: 'в', 131: 'а', 132: ' ', 133: 'о', 134: 'д', 135: 'и', 136: 'н', 137: ' ', 138: 'л', 139: 'и', 140: 'ш', 141: 'ь', 142: ' ', 143: 'и', 144: 'н', 145: 'ф', 146: 'о', 147: 'р', 148: 'м', 149: 'а', 150: 'ц', 151: 'и', 152: 'я', 153: ' ', 154: 'с', 155: 'л', 156: 'о', 157: 'в', 158: 'о', 159: ' ', 160: 'п', 161: 'и', 162: 'с', 163: 'а', 164: 'т', 165: 'ь', 166: 'с', 167: 'я', 168: ' ', 169: 'п', 170: 'о', 171: 'н', 172: 'я', 173: 'т', 174: 'ь', 175: ' ', 176: 'р', 177: 'а', 178: 'з', 179: 'б', 180: 'о', 181: 'р', 182: ' ', 183: 'п', 184: 'р', 185: 'а', 186: 'в', 187: 'и', 188: 'л', 189: 'ь', 190: 'н', 191: 'ы', 192: 'й', 193: ' ', 194: 'п', 195: 'о', 196: 'э', 197: 'т', 198: 'о', 199: 'м', 200: 'у', 201: ' ', 202: 'а', 203: 'н', 204: 'а', 205: 'л', 206: 'и', 207: 'з', 208: 'а', 209: 'т', 210: 'о', 211: 'р', 212: ' ', 213: 'в', 214: 'о', 215: 'з', 216: 'в', 217: 'р', 218: 'а', 219: 'щ', 220: 'а', 221: 'т', 222: 'ь', 223: ' ', 224: 'н', 225: 'е', 226: 'с', 227: 'к', 228: 'о', 229: 'л', 230: 'ь', 231: 'к', 232: 'о', 233: ' ', 234: 'в', 235: 'а', 236: 'р', 237: 'и', 238: 'а', 239: 'н', 240: 'т', 241: ' ', 242: 'р', 243: 'а', 244: 'з', 245: 'б', 246: 'о', 247: 'р'}\n"
          ]
        }
      ]
    }
  ]
}